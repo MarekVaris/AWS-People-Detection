{
 "cells": [
  {
   "cell_type": "code",
   "execution_count": 1,
   "metadata": {},
   "outputs": [],
   "source": [
    "try:\n",
    "    import cv2\n",
    "except:\n",
    "    !pip install opencv-python\n",
    "    import cv2\n",
    "import boto3\n",
    "import numpy as np\n",
    "import io\n",
    "import os\n",
    "from PIL import Image\n",
    "from botocore.exceptions import ClientError\n"
   ]
  },
  {
   "cell_type": "code",
   "execution_count": 2,
   "metadata": {
    "tags": []
   },
   "outputs": [],
   "source": [
    "# Function to download image from S3\n",
    "def download_image_from_s3(bucket, key):\n",
    "    s3 = boto3.client('s3')\n",
    "    response = s3.get_object(Bucket=bucket, Key=key)\n",
    "    image_data = response['Body'].read()\n",
    "    image = Image.open(io.BytesIO(image_data))\n",
    "    image_np = np.array(image)\n",
    "    return image_np\n",
    "\n",
    "# Function to upload image to S3\n",
    "def upload_image_to_s3(image_np, bucket, key):\n",
    "    s3 = boto3.client('s3')\n",
    "    _, buffer = cv2.imencode('.jpg', image_np)\n",
    "    io_buf = io.BytesIO(buffer)\n",
    "    s3.put_object(Bucket=bucket, Key=key, Body=io_buf.getvalue(), ContentType='image/jpeg')"
   ]
  },
  {
   "cell_type": "code",
   "execution_count": 3,
   "metadata": {},
   "outputs": [],
   "source": [
    "# Load YOLO model\n",
    "net = cv2.dnn.readNet(\"yolov3.weights\", \"yolov3.cfg\")\n",
    "\n",
    "def process_image(image):\n",
    "    # Get image dimensions\n",
    "    image = cv2.cvtColor(image, cv2.COLOR_BGR2RGB)\n",
    "    (height, width) = image.shape[:2]\n",
    "\n",
    "    # Define the neural network input\n",
    "    blob = cv2.dnn.blobFromImage(image, 1 / 255.0, (416, 416), swapRB=False, crop=False)\n",
    "    net.setInput(blob)\n",
    "\n",
    "    # Perform forward propagation\n",
    "    output_layer_name = net.getUnconnectedOutLayersNames()\n",
    "    output_layers = net.forward(output_layer_name)\n",
    "\n",
    "    # Initialize list of detected people\n",
    "    people = []\n",
    "\n",
    "    # Loop over the output layers\n",
    "    for output in output_layers:\n",
    "        # Loop over the detections\n",
    "        for detection in output:\n",
    "            # Extract the class ID and confidence of the current detection\n",
    "            scores = detection[5:]\n",
    "            class_id = np.argmax(scores)\n",
    "            confidence = scores[class_id]\n",
    "\n",
    "            # Only keep detections with a high confidence\n",
    "            if class_id == 0 and confidence > 0.80:\n",
    "                # Object detected\n",
    "                center_x = int(detection[0] * width)\n",
    "                center_y = int(detection[1] * height)\n",
    "                w = int(detection[2] * width)\n",
    "                h = int(detection[3] * height)\n",
    "\n",
    "                # Rectangle coordinates\n",
    "                x = int(center_x - w / 2)\n",
    "                y = int(center_y - h / 2)\n",
    "\n",
    "                # Add the detection to the list of people\n",
    "                people.append((x, y, w, h))\n",
    "\n",
    "    # Draw bounding boxes around the people\n",
    "    for i, (x, y, w, h) in enumerate(people):\n",
    "        cv2.rectangle(image, (x, y), (x + w, y + h), (0, 255, 0), 2)\n",
    "        cv2.putText(image, f'Person {i+1}', (x, y - 5), cv2.FONT_HERSHEY_SIMPLEX, 0.5, (0, 255, 0), 2)\n",
    "\n",
    "    return image"
   ]
  },
  {
   "cell_type": "code",
   "execution_count": 4,
   "metadata": {},
   "outputs": [],
   "source": [
    "def generate_unique_filename(bucket, base_filename, directory):\n",
    "    counter = 0\n",
    "    s3 = boto3.client('s3')\n",
    "    filename, ext = os.path.splitext(base_filename)\n",
    "    \n",
    "    while True:\n",
    "        unique_filename = os.path.join(directory, f\"{filename}_{counter}{ext}\")\n",
    "        try:\n",
    "            s3.head_object(Bucket=bucket, Key=unique_filename)\n",
    "        except ClientError as e:\n",
    "            if e.response['Error']['Code'] == '404':\n",
    "                return unique_filename\n",
    "            else:\n",
    "                raise\n",
    "        counter += 1\n",
    "\n",
    "def main_run(bucket, key):\n",
    "    s3 = boto3.client('s3')\n",
    "    image = download_image_from_s3(bucket, key)\n",
    "    processed_image = process_image(image)\n",
    "\n",
    "    # Extract the filename (without extension) from the key\n",
    "    filename = os.path.splitext(key.split('/')[-1])[0]\n",
    "\n",
    "    # Generate a unique output key with conflict resolution\n",
    "    output_key = generate_unique_filename(bucket, filename, 'outputs')\n",
    "\n",
    "    # Check if people were detected\n",
    "    if len(processed_image) > 0:  # Check if processed_image contains detections\n",
    "        try:\n",
    "            upload_image_to_s3(processed_image, bucket, output_key)\n",
    "        except ClientError as error:\n",
    "            raise ClientError(f\"Error uploading image to S3: {error}\")\n",
    "        print(f\"Processed image saved to: s3://{bucket}/{output_key}\")\n",
    "    else:\n",
    "        print(f\"No people detected in image: {key}\")"
   ]
  },
  {
   "cell_type": "code",
   "execution_count": 5,
   "metadata": {
    "tags": []
   },
   "outputs": [
    {
     "name": "stdout",
     "output_type": "stream",
     "text": [
      "Processed image saved to: s3://my-image-input-bucket/outputs/people_4\n"
     ]
    }
   ],
   "source": [
    "input_bucket = 'my-image-input-bucket'\n",
    "input_key = 'inputs/people.jpg'\n",
    "main_run(input_bucket, input_key)"
   ]
  }
 ],
 "metadata": {
  "kernelspec": {
   "display_name": "conda_python3",
   "language": "python",
   "name": "conda_python3"
  },
  "language_info": {
   "codemirror_mode": {
    "name": "ipython",
    "version": 3
   },
   "file_extension": ".py",
   "mimetype": "text/x-python",
   "name": "python",
   "nbconvert_exporter": "python",
   "pygments_lexer": "ipython3",
   "version": "3.10.14"
  }
 },
 "nbformat": 4,
 "nbformat_minor": 4
}
