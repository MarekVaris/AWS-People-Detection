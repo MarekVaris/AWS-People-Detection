{
 "cells": [
  {
   "cell_type": "code",
   "execution_count": 1,
   "metadata": {},
   "outputs": [],
   "source": [
    "import cv2\n",
    "import numpy as np"
   ]
  },
  {
   "cell_type": "code",
   "execution_count": 2,
   "metadata": {
    "tags": []
   },
   "outputs": [
    {
     "name": "stdout",
     "output_type": "stream",
     "text": [
      "Zapisano obraz z wykrytymi osobami w: outputs/detected_people.jpg\n"
     ]
    }
   ],
   "source": [
    "# Load YOLO model\n",
    "net = cv2.dnn.readNet(\"yolov3.weights\", \"yolov3.cfg\")\n",
    "image = cv2.imread(\"img/people.jpg\")\n",
    "\n",
    "# Get image dimensions\n",
    "(height, width) = image.shape[:2]\n",
    "\n",
    "# Define the neural network input\n",
    "blob = cv2.dnn.blobFromImage(image, 1 / 255.0, (416, 416), swapRB=True, crop=False)\n",
    "net.setInput(blob)\n",
    "\n",
    "# Perform forward propagation\n",
    "output_layer_name = net.getUnconnectedOutLayersNames()\n",
    "output_layers = net.forward(output_layer_name)\n",
    "\n",
    "# Initialize list of detected people\n",
    "people = []\n",
    "\n",
    "# Loop over the output layers\n",
    "for output in output_layers:\n",
    "    # Loop over the detections\n",
    "    for detection in output:\n",
    "        # Extract the class ID and confidence of the current detection\n",
    "        scores = detection[5:]\n",
    "        class_id = np.argmax(scores)\n",
    "        confidence = scores[class_id]\n",
    "\n",
    "        # Only keep detections with a high confidence\n",
    "        if class_id == 0 and confidence > 0.80:\n",
    "            # Object detected\n",
    "            center_x = int(detection[0] * width)\n",
    "            center_y = int(detection[1] * height)\n",
    "            w = int(detection[2] * width)\n",
    "            h = int(detection[3] * height)\n",
    "\n",
    "            # Rectangle coordinates\n",
    "            x = int(center_x - w / 2)\n",
    "            y = int(center_y - h / 2)\n",
    "\n",
    "            # Add the detection to the list of people\n",
    "            people.append((x, y, w, h))\n",
    "\n",
    "# Draw bounding boxes around the people\n",
    "for (x, y, w, h) in people:\n",
    "    cv2.rectangle(image, (x, y), (x + w, y + h), (0, 255, 0), 2)\n",
    "    \n",
    "    # Draw bounding boxes around the people\n",
    "for i, (x, y, w, h) in enumerate(people):\n",
    "    cv2.rectangle(image, (x, y), (x + w, y + h), (0, 255, 0), 2)\n",
    "    cv2.putText(image, f'Person {i+1}', (x, y - 5), cv2.FONT_HERSHEY_SIMPLEX, 0.5, (0, 255, 0), 2)\n",
    "\n",
    "# Zapisz obraz z wykrytymi osobami\n",
    "output_path = 'outputs/detected_people.jpg'\n",
    "cv2.imwrite(output_path, image)\n",
    "print(f\"Zapisano obraz z wykrytymi osobami w: {output_path}\")"
   ]
  }
 ],
 "metadata": {
  "kernelspec": {
   "display_name": "conda_python3",
   "language": "python",
   "name": "conda_python3"
  },
  "language_info": {
   "codemirror_mode": {
    "name": "ipython",
    "version": 3
   },
   "file_extension": ".py",
   "mimetype": "text/x-python",
   "name": "python",
   "nbconvert_exporter": "python",
   "pygments_lexer": "ipython3",
   "version": "3.10.14"
  }
 },
 "nbformat": 4,
 "nbformat_minor": 4
}
